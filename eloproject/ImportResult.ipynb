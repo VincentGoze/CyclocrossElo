{
 "cells": [
  {
   "cell_type": "code",
   "execution_count": 16,
   "id": "b324bc21-e348-45c1-b8ff-ac2aaab7bce3",
   "metadata": {},
   "outputs": [
    {
     "data": {
      "text/plain": [
       "[{'place': '1',\n",
       "  'prenom': 'Lidia',\n",
       "  'nom': 'CUSACK',\n",
       "  'racecategory': 'Women Junior',\n",
       "  'racename': 'UCI World Cup Dublin 2024',\n",
       "  'date': '1 December 2024'},\n",
       " {'place': '2',\n",
       "  'prenom': 'Lison',\n",
       "  'nom': 'DESPREZ',\n",
       "  'racecategory': 'Women Junior',\n",
       "  'racename': 'UCI World Cup Dublin 2024',\n",
       "  'date': '1 December 2024'},\n",
       " {'place': '3',\n",
       "  'prenom': 'Rafaelle',\n",
       "  'nom': 'CARRIER',\n",
       "  'racecategory': 'Women Junior',\n",
       "  'racename': 'UCI World Cup Dublin 2024',\n",
       "  'date': '1 December 2024'},\n",
       " {'place': '4',\n",
       "  'prenom': 'Mae',\n",
       "  'nom': 'CABACA',\n",
       "  'racecategory': 'Women Junior',\n",
       "  'racename': 'UCI World Cup Dublin 2024',\n",
       "  'date': '1 December 2024'},\n",
       " {'place': '5',\n",
       "  'prenom': 'Amálie',\n",
       "  'nom': 'GOTTWALDOVÁ',\n",
       "  'racecategory': 'Women Junior',\n",
       "  'racename': 'UCI World Cup Dublin 2024',\n",
       "  'date': '1 December 2024'},\n",
       " {'place': '6',\n",
       "  'prenom': 'Zelie',\n",
       "  'nom': 'LAMBERT',\n",
       "  'racecategory': 'Women Junior',\n",
       "  'racename': 'UCI World Cup Dublin 2024',\n",
       "  'date': '1 December 2024'},\n",
       " {'place': '7',\n",
       "  'prenom': 'Lise',\n",
       "  'nom': 'REVOL',\n",
       "  'racecategory': 'Women Junior',\n",
       "  'racename': 'UCI World Cup Dublin 2024',\n",
       "  'date': '1 December 2024'},\n",
       " {'place': '8',\n",
       "  'prenom': 'Barbora',\n",
       "  'nom': 'BUKOVSKÁ',\n",
       "  'racecategory': 'Women Junior',\n",
       "  'racename': 'UCI World Cup Dublin 2024',\n",
       "  'date': '1 December 2024'},\n",
       " {'place': '9',\n",
       "  'prenom': 'Giorgia',\n",
       "  'nom': 'PELLIZOTTI',\n",
       "  'racecategory': 'Women Junior',\n",
       "  'racename': 'UCI World Cup Dublin 2024',\n",
       "  'date': '1 December 2024'},\n",
       " {'place': '10',\n",
       "  'prenom': 'Greta',\n",
       "  'nom': 'LAWLESS',\n",
       "  'racecategory': 'Women Junior',\n",
       "  'racename': 'UCI World Cup Dublin 2024',\n",
       "  'date': '1 December 2024'},\n",
       " {'place': '11',\n",
       "  'prenom': 'Jeanne',\n",
       "  'nom': 'DUTERNE',\n",
       "  'racecategory': 'Women Junior',\n",
       "  'racename': 'UCI World Cup Dublin 2024',\n",
       "  'date': '1 December 2024'},\n",
       " {'place': '12',\n",
       "  'prenom': 'Lorena',\n",
       "  'nom': 'PATINO VILLANUEVA',\n",
       "  'racecategory': 'Women Junior',\n",
       "  'racename': 'UCI World Cup Dublin 2024',\n",
       "  'date': '1 December 2024'},\n",
       " {'place': '13',\n",
       "  'prenom': 'Nico',\n",
       "  'nom': 'KNOLL',\n",
       "  'racecategory': 'Women Junior',\n",
       "  'racename': 'UCI World Cup Dublin 2024',\n",
       "  'date': '1 December 2024'},\n",
       " {'place': '14',\n",
       "  'prenom': 'Ellie',\n",
       "  'nom': 'MITCHINSON',\n",
       "  'racecategory': 'Women Junior',\n",
       "  'racename': 'UCI World Cup Dublin 2024',\n",
       "  'date': '1 December 2024'},\n",
       " {'place': '15',\n",
       "  'prenom': 'Mille',\n",
       "  'nom': 'FOLDAGER NIELSEN',\n",
       "  'racecategory': 'Women Junior',\n",
       "  'racename': 'UCI World Cup Dublin 2024',\n",
       "  'date': '1 December 2024'},\n",
       " {'place': '16',\n",
       "  'prenom': 'Arabella',\n",
       "  'nom': 'BLACKBURN',\n",
       "  'racecategory': 'Women Junior',\n",
       "  'racename': 'UCI World Cup Dublin 2024',\n",
       "  'date': '1 December 2024'},\n",
       " {'place': '17',\n",
       "  'prenom': 'Noï',\n",
       "  'nom': 'MOES',\n",
       "  'racecategory': 'Women Junior',\n",
       "  'racename': 'UCI World Cup Dublin 2024',\n",
       "  'date': '1 December 2024'},\n",
       " {'place': '18',\n",
       "  'prenom': 'Sanne',\n",
       "  'nom': 'LAURIJSSEN',\n",
       "  'racecategory': 'Women Junior',\n",
       "  'racename': 'UCI World Cup Dublin 2024',\n",
       "  'date': '1 December 2024'},\n",
       " {'place': '19',\n",
       "  'prenom': 'Zoe',\n",
       "  'nom': 'ROCHE',\n",
       "  'racecategory': 'Women Junior',\n",
       "  'racename': 'UCI World Cup Dublin 2024',\n",
       "  'date': '1 December 2024'},\n",
       " {'place': '20',\n",
       "  'prenom': 'Sara Aaboe',\n",
       "  'nom': 'KALLESTRUP',\n",
       "  'racecategory': 'Women Junior',\n",
       "  'racename': 'UCI World Cup Dublin 2024',\n",
       "  'date': '1 December 2024'},\n",
       " {'place': '21',\n",
       "  'prenom': 'Alyssa',\n",
       "  'nom': 'WHITE',\n",
       "  'racecategory': 'Women Junior',\n",
       "  'racename': 'UCI World Cup Dublin 2024',\n",
       "  'date': '1 December 2024'},\n",
       " {'place': '22',\n",
       "  'prenom': 'Zita',\n",
       "  'nom': 'PEETERS',\n",
       "  'racecategory': 'Women Junior',\n",
       "  'racename': 'UCI World Cup Dublin 2024',\n",
       "  'date': '1 December 2024'},\n",
       " {'place': '23',\n",
       "  'prenom': 'Lyllie',\n",
       "  'nom': 'SONNEMANN',\n",
       "  'racecategory': 'Women Junior',\n",
       "  'racename': 'UCI World Cup Dublin 2024',\n",
       "  'date': '1 December 2024'},\n",
       " {'place': '24',\n",
       "  'prenom': 'Anna',\n",
       "  'nom': 'PATTERSON',\n",
       "  'racecategory': 'Women Junior',\n",
       "  'racename': 'UCI World Cup Dublin 2024',\n",
       "  'date': '1 December 2024'},\n",
       " {'place': '25',\n",
       "  'prenom': 'Nicole',\n",
       "  'nom': 'CLAMANN',\n",
       "  'racecategory': 'Women Junior',\n",
       "  'racename': 'UCI World Cup Dublin 2024',\n",
       "  'date': '1 December 2024'},\n",
       " {'place': '26',\n",
       "  'prenom': 'Ana',\n",
       "  'nom': 'LOPEZ BURGOS',\n",
       "  'racecategory': 'Women Junior',\n",
       "  'racename': 'UCI World Cup Dublin 2024',\n",
       "  'date': '1 December 2024'},\n",
       " {'place': '27',\n",
       "  'prenom': 'Carmela',\n",
       "  'nom': 'SOLARES GONZALEZ',\n",
       "  'racecategory': 'Women Junior',\n",
       "  'racename': 'UCI World Cup Dublin 2024',\n",
       "  'date': '1 December 2024'},\n",
       " {'place': '28',\n",
       "  'prenom': 'Aoife',\n",
       "  'nom': \"O'DONOVAN\",\n",
       "  'racecategory': 'Women Junior',\n",
       "  'racename': 'UCI World Cup Dublin 2024',\n",
       "  'date': '1 December 2024'},\n",
       " {'place': '29',\n",
       "  'prenom': 'Ava',\n",
       "  'nom': 'SHIPMAN',\n",
       "  'racecategory': 'Women Junior',\n",
       "  'racename': 'UCI World Cup Dublin 2024',\n",
       "  'date': '1 December 2024'}]"
      ]
     },
     "execution_count": 16,
     "metadata": {},
     "output_type": "execute_result"
    }
   ],
   "source": [
    "import requests\n",
    "from bs4 import BeautifulSoup\n",
    "\n",
    "url=\"https://cyclocross24.com/race/17084/\"\n",
    "\n",
    "page=requests.get(url)\n",
    "\n",
    "soup=BeautifulSoup(page.text,'html')\n",
    "\n",
    "title=soup.find(class_=\"main_title\").text\n",
    "\n",
    "date=soup.find(class_=\"rs_date\").text.strip()\n",
    "import re\n",
    "\n",
    "\n",
    "patter=re.compile(r\"(.*)-(.*)\\((.*)\\)\")\n",
    "matc = patter.search(title)\n",
    "if matc:\n",
    "    racename=matc.group(1).strip()\n",
    "    racecategory = matc.group(2).strip()\n",
    "    levelofrace = matc.group(3).strip()\n",
    "\n",
    "L=[a.find(class_=\"res_position\").text+\" \"+a.find(class_=\"rurl\").text for a in soup.find_all(class_=\"r1_row\")]\n",
    "R=[]\n",
    "\n",
    "pattern = re.compile(\n",
    "    r\"([0-9]+)\\s\\b([A-Z'À-Ÿ-]+(?:\\s[A-Z'À-Ÿ-]+)*)\\b\\s+\\b([A-Z'À-Ÿ][a-z'à-ÿ]+(?:[-\\s][A-ZÀ-Ÿ][a-z'à-ÿ]+)*)\\b\"#\\s+\\b([A-Z'`À-Ÿ0-9()\\s.-]+)\\b\"#\\s+(\\w+\\s[0-4])\"#\"\\s+([A-Z0-9-]{2,}|[A-Z]+)\"\n",
    ")\n",
    "\n",
    "for i in L:\n",
    "    match = pattern.search(i)\n",
    "    if match:\n",
    "        position=match.group(1)\n",
    "        nom = match.group(2)\n",
    "        prenom = match.group(3)\n",
    "        R.append({'place':position,'prenom': prenom,'nom': nom, 'racecategory': racecategory, 'racename': racename, 'date':date})\n",
    "import csv\n",
    "\n",
    "with open('test.csv', 'w', newline='',encoding='utf-8') as file:\n",
    "    writer = csv.writer(file)\n",
    "    field = [\"place\",\"prenom\",\"nom\",\"racecategory\",\"racename\",\"date\"]\n",
    "    writer.writerow(field)\n",
    "\n",
    "    for j in R:\n",
    "        writer.writerow([j[\"place\"],j[\"prenom\"],j[\"nom\"],j[\"racecategory\"],j[\"racename\"],j[\"date\"]])\n",
    "assert len(R)==(int(R[-1]['place']))        \n",
    "\n",
    "R\n"
   ]
  },
  {
   "cell_type": "code",
   "execution_count": null,
   "id": "442c6bec-4263-48cf-90f2-e624fcff1631",
   "metadata": {},
   "outputs": [],
   "source": []
  },
  {
   "cell_type": "code",
   "execution_count": null,
   "id": "ba5bf86a-5795-4598-a607-462c464a9480",
   "metadata": {},
   "outputs": [],
   "source": []
  },
  {
   "cell_type": "code",
   "execution_count": null,
   "id": "9cc05bd6-34a4-4a8d-803c-02fe559c09a9",
   "metadata": {},
   "outputs": [],
   "source": []
  },
  {
   "cell_type": "code",
   "execution_count": null,
   "id": "d88777e7-9e66-464e-9632-088ceabe6e9d",
   "metadata": {},
   "outputs": [],
   "source": []
  },
  {
   "cell_type": "code",
   "execution_count": null,
   "id": "1751f393-3816-4ea0-9558-a9b09d25b290",
   "metadata": {},
   "outputs": [],
   "source": []
  },
  {
   "cell_type": "code",
   "execution_count": null,
   "id": "d5f78299-41ca-4b86-a153-b656bd63951f",
   "metadata": {},
   "outputs": [],
   "source": []
  },
  {
   "cell_type": "code",
   "execution_count": 47,
   "id": "aab8b7b8-720e-4774-b865-dc9696ff2156",
   "metadata": {},
   "outputs": [],
   "source": [
    "import csv\n",
    "\n",
    "with open('test.csv', 'w', newline='',encoding='utf-8') as file:\n",
    "    writer = csv.writer(file)\n",
    "    field = [\"place\",\"prenom\",\"nom\",\"racecategory\",\"racename\",\"date\"]\n",
    "    writer.writerow(field)\n",
    "\n",
    "    for j in R:\n",
    "        writer.writerow([j[\"place\"],j[\"prenom\"],j[\"nom\"],j[\"racecategory\"],j[\"racename\"],j[\"date\"]])\n",
    "assert len(R)==(int(R[-2]['place']))   "
   ]
  },
  {
   "cell_type": "code",
   "execution_count": null,
   "id": "82456c97-50f9-4661-b5b3-136c18bbddaa",
   "metadata": {},
   "outputs": [],
   "source": []
  },
  {
   "cell_type": "code",
   "execution_count": null,
   "id": "71a708a5-b64d-4eaa-8921-bbbaae07b93a",
   "metadata": {},
   "outputs": [],
   "source": []
  },
  {
   "cell_type": "code",
   "execution_count": null,
   "id": "c3f27568-c3b2-4cfd-a267-4e567712d2ca",
   "metadata": {},
   "outputs": [],
   "source": []
  },
  {
   "cell_type": "code",
   "execution_count": 43,
   "id": "76117581-d22c-41e1-a79f-38e37d4063a2",
   "metadata": {},
   "outputs": [
    {
     "data": {
      "text/plain": [
       "{'place': '1',\n",
       " 'prenom': 'Mattia',\n",
       " 'nom': 'AGOSTINACCHIO',\n",
       " 'racecategory': 'Men Junior',\n",
       " 'racename': 'Turin International Cyclocross 2024',\n",
       " 'date': '10 November 2024'}"
      ]
     },
     "execution_count": 43,
     "metadata": {},
     "output_type": "execute_result"
    }
   ],
   "source": [
    "R[0]"
   ]
  },
  {
   "cell_type": "code",
   "execution_count": 44,
   "id": "38866d35-396b-4a5a-a6af-b38595441724",
   "metadata": {},
   "outputs": [],
   "source": [
    "a={'place': '45',\n",
    " 'prenom': 'Lorenzo',\n",
    " 'nom': \"VIGANO'\",\n",
    " 'racecategory': 'Men Junior',\n",
    " 'racename': 'Turin International Cyclocross 2024',\n",
    " 'date': '10 November 2024'}"
   ]
  },
  {
   "cell_type": "code",
   "execution_count": 45,
   "id": "41bb9c7e-7326-4922-b4e9-750850186c92",
   "metadata": {},
   "outputs": [],
   "source": [
    "R.append(a)"
   ]
  },
  {
   "cell_type": "code",
   "execution_count": null,
   "id": "49865b51-0c67-46a3-8f22-fdf4524f3110",
   "metadata": {},
   "outputs": [],
   "source": []
  },
  {
   "cell_type": "code",
   "execution_count": null,
   "id": "7413192a-0d89-49fa-a4fd-821ffbf2157e",
   "metadata": {},
   "outputs": [],
   "source": []
  },
  {
   "cell_type": "code",
   "execution_count": null,
   "id": "59d0899d-1daf-4a52-9e61-1f3cefa1db0e",
   "metadata": {},
   "outputs": [],
   "source": []
  },
  {
   "cell_type": "code",
   "execution_count": 272,
   "id": "c130343c-ab5e-4121-990e-01f158fab367",
   "metadata": {},
   "outputs": [
    {
     "data": {
      "text/plain": [
       "37"
      ]
     },
     "execution_count": 272,
     "metadata": {},
     "output_type": "execute_result"
    }
   ],
   "source": [
    "len(R)"
   ]
  },
  {
   "cell_type": "code",
   "execution_count": 274,
   "id": "dc3bc768-44d2-4a72-a5bd-8de9b3e52f92",
   "metadata": {},
   "outputs": [],
   "source": [
    "a={'place': '3',\n",
    " 'prenom': 'Ettore',\n",
    " 'nom': \"PRA'\",\n",
    " 'racecategory': 'Men Elite',\n",
    " 'racename': \"Trofeo Citta' Di Firenze 2024\",\n",
    " 'date': '1 November 2024'}"
   ]
  },
  {
   "cell_type": "code",
   "execution_count": 275,
   "id": "8c960957-1a6b-4c61-93d8-0b64648070fa",
   "metadata": {},
   "outputs": [],
   "source": [
    "R.append(a)"
   ]
  },
  {
   "cell_type": "code",
   "execution_count": 276,
   "id": "445ceea1-3918-4a90-975d-35040b8a735c",
   "metadata": {},
   "outputs": [
    {
     "data": {
      "text/plain": [
       "38"
      ]
     },
     "execution_count": 276,
     "metadata": {},
     "output_type": "execute_result"
    }
   ],
   "source": [
    "len(R)"
   ]
  },
  {
   "cell_type": "code",
   "execution_count": 277,
   "id": "2efc7483-2d09-47bf-948b-0cb5c62b9915",
   "metadata": {},
   "outputs": [],
   "source": [
    "import csv\n",
    "\n",
    "with open('test.csv', 'w', newline='',encoding='utf-8') as file:\n",
    "    writer = csv.writer(file)\n",
    "    field = [\"place\",\"prenom\",\"nom\",\"racecategory\",\"racename\",\"date\"]\n",
    "    writer.writerow(field)\n",
    "\n",
    "    for j in R:\n",
    "        writer.writerow([j[\"place\"],j[\"prenom\"],j[\"nom\"],j[\"racecategory\"],j[\"racename\"],j[\"date\"]])"
   ]
  },
  {
   "cell_type": "code",
   "execution_count": null,
   "id": "03c21871-b79d-43b7-bb40-69dc3cf5e175",
   "metadata": {},
   "outputs": [],
   "source": []
  }
 ],
 "metadata": {
  "kernelspec": {
   "display_name": "Python 3 (ipykernel)",
   "language": "python",
   "name": "python3"
  },
  "language_info": {
   "codemirror_mode": {
    "name": "ipython",
    "version": 3
   },
   "file_extension": ".py",
   "mimetype": "text/x-python",
   "name": "python",
   "nbconvert_exporter": "python",
   "pygments_lexer": "ipython3",
   "version": "3.11.3"
  }
 },
 "nbformat": 4,
 "nbformat_minor": 5
}
