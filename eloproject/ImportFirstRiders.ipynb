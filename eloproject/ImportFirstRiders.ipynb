{
 "cells": [
  {
   "cell_type": "code",
   "execution_count": 5,
   "id": "b324bc21-e348-45c1-b8ff-ac2aaab7bce3",
   "metadata": {},
   "outputs": [],
   "source": [
    "import requests\n",
    "from bs4 import BeautifulSoup\n",
    "\n",
    "url=\"https://cyclocross24.com/uciranking/2023-2024/WE/?start=1\"\n",
    "\n",
    "page=requests.get(url)\n",
    "\n",
    "soup=BeautifulSoup(page.text,'html')\n",
    "\n",
    "import re\n",
    "pattern = re.compile(\n",
    "    r\"\\b([A-Z'À-Ÿ]+(?:\\s[A-Z'À-Ÿ]+)*)\\b\\s+\\b([A-Z'À-Ÿ][a-zà-ÿ]+(?:[-\\s][A-Z'À-Ÿ][a-zà-ÿ]+)*)\\b\"#\\s+\\b([A-Z'`À-Ÿ0-9()\\s.-]+)\\b\"#\\s+(\\w+\\s[0-4])\"#\"\\s+([A-Z0-9-]{2,}|[A-Z]+)\"\n",
    ")\n"
   ]
  },
  {
   "cell_type": "code",
   "execution_count": 6,
   "id": "d0c0e972-620c-4780-8534-187dc78988c4",
   "metadata": {},
   "outputs": [],
   "source": [
    "L=[a.find(class_=\"rurl\").text for a in soup.find_all(class_=\"r1_row\")]\n",
    "R=[]\n",
    "for i in L:\n",
    "    match = pattern.search(i)\n",
    "    if match:\n",
    "        nom = match.group(1)\n",
    "        prenom = match.group(2)\n",
    "    R.append({\n",
    "            'prenom': prenom,\n",
    "            'nom': nom\n",
    "        })"
   ]
  },
  {
   "cell_type": "code",
   "execution_count": 7,
   "id": "c285ad9d-764e-4a67-a9f7-44440cf177f9",
   "metadata": {},
   "outputs": [
    {
     "data": {
      "text/plain": [
       "[{'prenom': 'Irati', 'nom': 'ARANGUREN CARBAYEDA'},\n",
       " {'prenom': 'Liv', 'nom': 'WENZEL'},\n",
       " {'prenom': 'Jorja', 'nom': 'BOND'},\n",
       " {'prenom': 'Lily Rose', 'nom': 'MAROIS'},\n",
       " {'prenom': 'Adèle', 'nom': 'HURTELOUP'},\n",
       " {'prenom': 'Antonina', 'nom': 'BIALEK'},\n",
       " {'prenom': 'Mae', 'nom': 'CABACA'},\n",
       " {'prenom': 'Xan', 'nom': 'CREES'},\n",
       " {'prenom': 'Joyce', 'nom': 'VANDERBEKEN'},\n",
       " {'prenom': 'Jana', 'nom': 'DOBBELAERE'},\n",
       " {'prenom': 'Elisa', 'nom': 'FERRI'},\n",
       " {'prenom': 'Wendy', 'nom': 'BUNEA'},\n",
       " {'prenom': 'Alessandra', 'nom': 'KELLER'},\n",
       " {'prenom': 'Lison', 'nom': 'DESPREZ'},\n",
       " {'prenom': 'Nico', 'nom': 'KNOLL'},\n",
       " {'prenom': 'Isa', 'nom': 'NOMDEN'},\n",
       " {'prenom': 'Camille', 'nom': 'DEVIGNE'},\n",
       " {'prenom': 'Rebekka', 'nom': 'ESTERMANN'},\n",
       " {'prenom': 'Akari', 'nom': 'KOBAYASHI'},\n",
       " {'prenom': 'Rozalia', 'nom': 'DUTCZAK'},\n",
       " {'prenom': 'Ann-Dorthe', 'nom': 'LISBYGD'},\n",
       " {'prenom': 'Alicja', 'nom': 'MATULA'},\n",
       " {'prenom': 'Marta', 'nom': 'ESTEVEZ ALONSO'},\n",
       " {'prenom': 'Ana', 'nom': 'LOPEZ BURGOS'},\n",
       " {'prenom': 'Christiane', 'nom': 'BILODEAU'},\n",
       " {'prenom': 'Sanne', 'nom': 'LAURIJSSEN'},\n",
       " {'prenom': 'Alexandra', 'nom': 'VALADE'},\n",
       " {'prenom': 'Tereza', 'nom': 'TVARUZKOVÁ'},\n",
       " {'prenom': 'Ruby', 'nom': 'JAMES'},\n",
       " {'prenom': 'Lyllie', 'nom': 'SONNEMANN'},\n",
       " {'prenom': 'Évita', 'nom': 'MUZIC'},\n",
       " {'prenom': 'Katelyn', 'nom': 'WALCROFT'},\n",
       " {'prenom': 'Noï', 'nom': 'MOES'},\n",
       " {'prenom': 'Alderney', 'nom': 'BAKER'},\n",
       " {'prenom': 'Nelia', 'nom': 'KABETAJ'},\n",
       " {'prenom': 'Lotte', 'nom': 'BAELE'},\n",
       " {'prenom': 'Alba', 'nom': 'TERUEL RIBES'},\n",
       " {'prenom': 'Lise', 'nom': 'KLAES'},\n",
       " {'prenom': 'Nikola', 'nom': 'BAJGEROVA'},\n",
       " {'prenom': 'Aliyah', 'nom': 'RAFFERTY'},\n",
       " {'prenom': 'Mia', 'nom': 'ASELTINE'},\n",
       " {'prenom': 'Hope', 'nom': 'INGLIS'},\n",
       " {'prenom': 'Yui', 'nom': 'ISHIDA'},\n",
       " {'prenom': 'Jennifer', 'nom': 'MALIK'},\n",
       " {'prenom': 'Kaija', 'nom': 'BUDDE'},\n",
       " {'prenom': 'Nora', 'nom': 'FISCHER'},\n",
       " {'prenom': 'Taylor', 'nom': 'WHITE'},\n",
       " {'prenom': 'Simona', 'nom': 'SPESNÁ'},\n",
       " {'prenom': 'Pavla', 'nom': 'HAVLIKOVA'},\n",
       " {'prenom': 'Kasuga', 'nom': 'WATABE'},\n",
       " {'prenom': 'Haylee', 'nom': 'JOHNSON'},\n",
       " {'prenom': 'Christine', 'nom': 'MAJERUS'},\n",
       " {'prenom': 'Ana Mafalda', 'nom': 'SÁ SANTOS'},\n",
       " {'prenom': 'Amelia', 'nom': 'SHEA'},\n",
       " {'prenom': 'Rebecca', 'nom': 'WOODVINE'},\n",
       " {'prenom': 'Maier', 'nom': 'OLANO AROZENA'},\n",
       " {'prenom': 'Katherine', 'nom': 'HOSKING'},\n",
       " {'prenom': 'Daniela Eugenia', 'nom': 'ROJAS MENESES'},\n",
       " {'prenom': 'Josie', 'nom': 'WILCOX'},\n",
       " {'prenom': 'Laura Lizette', 'nom': 'SANDER'},\n",
       " {'prenom': 'Daiva', 'nom': 'RAGAZINSKIENE'},\n",
       " {'prenom': 'Hanna', 'nom': 'HÄKKINEN'},\n",
       " {'prenom': 'Caroline', 'nom': 'ANDERSSON'},\n",
       " {'prenom': 'Janka', 'nom': 'FARKAS'},\n",
       " {'prenom': 'Eleftheria', 'nom': 'GIACHOU'},\n",
       " {'prenom': 'Bojana', 'nom': 'JOVANOVIC'},\n",
       " {'prenom': 'Mie Bjørndal', 'nom': 'OTTESTAD'},\n",
       " {'prenom': 'Febe', 'nom': 'DE SMEDT'},\n",
       " {'prenom': 'Maité', 'nom': 'BARTHELS'},\n",
       " {'prenom': 'Tereza', 'nom': 'KURNICKÁ'},\n",
       " {'prenom': 'Siobhan', 'nom': 'KELLY'},\n",
       " {'prenom': 'Roisin', 'nom': 'LALLY'},\n",
       " {'prenom': 'Rachel', 'nom': 'TOV'},\n",
       " {'prenom': 'Maude', 'nom': 'RUELLAND'},\n",
       " {'prenom': 'Mackenzie', 'nom': 'MYATT'},\n",
       " {'prenom': 'Maia', 'nom': 'BRIDIER'},\n",
       " {'prenom': 'Ellie', 'nom': 'MITCHINSON'},\n",
       " {'prenom': 'Keira', 'nom': 'BOND'},\n",
       " {'prenom': 'Elin', 'nom': 'ALSJÖ'},\n",
       " {'prenom': 'Bloeme', 'nom': 'KALIS'},\n",
       " {'prenom': 'Messane', 'nom': 'BRÄUTIGAM'},\n",
       " {'prenom': 'Aislin', 'nom': 'HALLAHAN'},\n",
       " {'prenom': 'Maria', 'nom': 'LARKIN'},\n",
       " {'prenom': 'Asia', 'nom': 'ZONTONE'},\n",
       " {'prenom': 'Kim', 'nom': 'VAN DE STEENE'},\n",
       " {'prenom': 'Alicia', 'nom': 'GONZALEZ BLANCO'},\n",
       " {'prenom': 'Madeline', 'nom': 'MOORHOUSE SMITH'},\n",
       " {'prenom': 'Nicole', 'nom': 'PESSE'},\n",
       " {'prenom': 'Sara', 'nom': 'SONNEMANS'},\n",
       " {'prenom': 'Hanka', 'nom': 'VIKOVÁ'},\n",
       " {'prenom': 'Nikola', 'nom': 'NOSKOVA'},\n",
       " {'prenom': 'Aika', 'nom': 'HIYOSHI'},\n",
       " {'prenom': 'Nahia', 'nom': 'GARCIA BIDABURU'},\n",
       " {'prenom': 'Nahia', 'nom': 'ARANA QUINTANILLA'},\n",
       " {'prenom': 'Sara', 'nom': 'BONILLO TALENS'},\n",
       " {'prenom': 'Muriel', 'nom': 'FURRER'},\n",
       " {'prenom': 'Ella', 'nom': 'HOWELL'},\n",
       " {'prenom': 'Isabella', 'nom': 'MOORE'},\n",
       " {'prenom': 'Alice', 'nom': 'PAPO'},\n",
       " {'prenom': 'Ellen', 'nom': 'DAVIS'}]"
      ]
     },
     "execution_count": 7,
     "metadata": {},
     "output_type": "execute_result"
    }
   ],
   "source": [
    "R"
   ]
  },
  {
   "cell_type": "code",
   "execution_count": 15,
   "id": "fda99489-0e29-4eb1-9a89-f498384d84c0",
   "metadata": {},
   "outputs": [
    {
     "data": {
      "text/plain": [
       "100"
      ]
     },
     "execution_count": 15,
     "metadata": {},
     "output_type": "execute_result"
    }
   ],
   "source": [
    "len(R)"
   ]
  },
  {
   "cell_type": "code",
   "execution_count": 8,
   "id": "d3c24b54-3706-4046-94ea-2c3e6a3efbe1",
   "metadata": {},
   "outputs": [],
   "source": [
    "import csv\n",
    "\n",
    "with open('test2.csv', 'w', newline='',encoding='utf-8') as file:\n",
    "    writer = csv.writer(file)\n",
    "    field = [\"prenom\",\"nom\"]\n",
    "    writer.writerow(field)\n",
    "\n",
    "    for j in R:\n",
    "        writer.writerow([j[\"prenom\"],j[\"nom\"]])\n"
   ]
  },
  {
   "cell_type": "code",
   "execution_count": null,
   "id": "7a6c2b07-cd1c-4a7b-b9a4-30c97932c66b",
   "metadata": {},
   "outputs": [],
   "source": []
  }
 ],
 "metadata": {
  "kernelspec": {
   "display_name": "Python 3 (ipykernel)",
   "language": "python",
   "name": "python3"
  },
  "language_info": {
   "codemirror_mode": {
    "name": "ipython",
    "version": 3
   },
   "file_extension": ".py",
   "mimetype": "text/x-python",
   "name": "python",
   "nbconvert_exporter": "python",
   "pygments_lexer": "ipython3",
   "version": "3.11.3"
  }
 },
 "nbformat": 4,
 "nbformat_minor": 5
}
